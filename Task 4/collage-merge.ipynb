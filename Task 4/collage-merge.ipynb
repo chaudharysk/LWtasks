{
 "cells": [
  {
   "cell_type": "code",
   "execution_count": 1,
   "id": "bc3d716d",
   "metadata": {},
   "outputs": [],
   "source": [
    "import numpy , cv2"
   ]
  },
  {
   "cell_type": "code",
   "execution_count": 2,
   "id": "4aaa354b",
   "metadata": {},
   "outputs": [],
   "source": [
    "i1 = cv2.imread('1.jpg')\n",
    "i2 = cv2.imread('2.jpg')"
   ]
  },
  {
   "cell_type": "code",
   "execution_count": 3,
   "id": "c7932062",
   "metadata": {},
   "outputs": [],
   "source": [
    "cv2.imshow(\"1\",i1)\n",
    "cv2.imshow(\"2\",i2)\n",
    "cv2.waitKey()\n",
    "cv2.destroyAllWindows()"
   ]
  },
  {
   "cell_type": "code",
   "execution_count": 4,
   "id": "1770aae1",
   "metadata": {},
   "outputs": [],
   "source": [
    "merge=numpy.hstack((i1,i2))"
   ]
  },
  {
   "cell_type": "code",
   "execution_count": 5,
   "id": "e6971117",
   "metadata": {},
   "outputs": [],
   "source": [
    "cv2.imshow(\"merged\",merge)\n",
    "cv2.waitKey()\n",
    "cv2.destroyAllWindows()"
   ]
  },
  {
   "cell_type": "code",
   "execution_count": null,
   "id": "60fa007a",
   "metadata": {},
   "outputs": [],
   "source": []
  }
 ],
 "metadata": {
  "kernelspec": {
   "display_name": "Python 3",
   "language": "python",
   "name": "python3"
  },
  "language_info": {
   "codemirror_mode": {
    "name": "ipython",
    "version": 3
   },
   "file_extension": ".py",
   "mimetype": "text/x-python",
   "name": "python",
   "nbconvert_exporter": "python",
   "pygments_lexer": "ipython3",
   "version": "3.8.8"
  }
 },
 "nbformat": 4,
 "nbformat_minor": 5
}
