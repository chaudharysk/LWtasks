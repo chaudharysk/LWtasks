{
 "cells": [
  {
   "cell_type": "code",
   "execution_count": 1,
   "id": "ad3661e1",
   "metadata": {},
   "outputs": [],
   "source": [
    "import numpy , cv2"
   ]
  },
  {
   "cell_type": "code",
   "execution_count": 2,
   "id": "aa08834c",
   "metadata": {},
   "outputs": [],
   "source": [
    "photo = numpy.zeros((800,800,3))"
   ]
  },
  {
   "cell_type": "code",
   "execution_count": 3,
   "id": "22001b6b",
   "metadata": {},
   "outputs": [
    {
     "data": {
      "text/plain": [
       "array([[[0., 0., 0.],\n",
       "        [0., 0., 0.],\n",
       "        [0., 0., 0.],\n",
       "        ...,\n",
       "        [0., 0., 0.],\n",
       "        [0., 0., 0.],\n",
       "        [0., 0., 0.]],\n",
       "\n",
       "       [[0., 0., 0.],\n",
       "        [0., 0., 0.],\n",
       "        [0., 0., 0.],\n",
       "        ...,\n",
       "        [0., 0., 0.],\n",
       "        [0., 0., 0.],\n",
       "        [0., 0., 0.]],\n",
       "\n",
       "       [[0., 0., 0.],\n",
       "        [0., 0., 0.],\n",
       "        [0., 0., 0.],\n",
       "        ...,\n",
       "        [0., 0., 0.],\n",
       "        [0., 0., 0.],\n",
       "        [0., 0., 0.]],\n",
       "\n",
       "       ...,\n",
       "\n",
       "       [[0., 0., 0.],\n",
       "        [0., 0., 0.],\n",
       "        [0., 0., 0.],\n",
       "        ...,\n",
       "        [0., 0., 0.],\n",
       "        [0., 0., 0.],\n",
       "        [0., 0., 0.]],\n",
       "\n",
       "       [[0., 0., 0.],\n",
       "        [0., 0., 0.],\n",
       "        [0., 0., 0.],\n",
       "        ...,\n",
       "        [0., 0., 0.],\n",
       "        [0., 0., 0.],\n",
       "        [0., 0., 0.]],\n",
       "\n",
       "       [[0., 0., 0.],\n",
       "        [0., 0., 0.],\n",
       "        [0., 0., 0.],\n",
       "        ...,\n",
       "        [0., 0., 0.],\n",
       "        [0., 0., 0.],\n",
       "        [0., 0., 0.]]])"
      ]
     },
     "execution_count": 3,
     "metadata": {},
     "output_type": "execute_result"
    }
   ],
   "source": [
    "cv2.circle(photo , center = (400,400), radius = 100 , color = (255,0,0)  ) #head"
   ]
  },
  {
   "cell_type": "code",
   "execution_count": 4,
   "id": "17e6bd60",
   "metadata": {},
   "outputs": [],
   "source": [
    "#save the image \n",
    "cv2.imwrite(\"image.jpeg\", photo)\n",
    "cv2.imshow(\"img\",photo)#to open the photo\n",
    "cv2.waitKey()#to hold the program and keep the photo tab open\n",
    "cv2.destroyAllWindows()# close the program window"
   ]
  },
  {
   "cell_type": "code",
   "execution_count": null,
   "id": "e99dc18e",
   "metadata": {},
   "outputs": [],
   "source": []
  },
  {
   "cell_type": "code",
   "execution_count": null,
   "id": "ceea4534",
   "metadata": {},
   "outputs": [],
   "source": []
  }
 ],
 "metadata": {
  "kernelspec": {
   "display_name": "Python 3",
   "language": "python",
   "name": "python3"
  },
  "language_info": {
   "codemirror_mode": {
    "name": "ipython",
    "version": 3
   },
   "file_extension": ".py",
   "mimetype": "text/x-python",
   "name": "python",
   "nbconvert_exporter": "python",
   "pygments_lexer": "ipython3",
   "version": "3.8.8"
  }
 },
 "nbformat": 4,
 "nbformat_minor": 5
}
