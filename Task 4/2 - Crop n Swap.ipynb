{
 "cells": [
  {
   "cell_type": "code",
   "execution_count": 1,
   "id": "f4e87065",
   "metadata": {},
   "outputs": [],
   "source": [
    "import numpy , cv2"
   ]
  },
  {
   "cell_type": "code",
   "execution_count": 2,
   "id": "241ceab5",
   "metadata": {},
   "outputs": [],
   "source": [
    "i1 = cv2.imread('1.jpg')\n",
    "i2 = cv2.imread('2.jpg')\n",
    "i1s = cv2.imread('1.jpg')\n",
    "i2s = cv2.imread('2.jpg')"
   ]
  },
  {
   "cell_type": "code",
   "execution_count": 3,
   "id": "32251e31",
   "metadata": {},
   "outputs": [],
   "source": [
    "cv2.imshow(\"1\",i1)\n",
    "cv2.imshow(\"2\",i2)\n",
    "cv2.waitKey()\n",
    "cv2.destroyAllWindows()"
   ]
  },
  {
   "cell_type": "code",
   "execution_count": 82,
   "id": "142617e6",
   "metadata": {},
   "outputs": [],
   "source": [
    "# Cropping Coordinates"
   ]
  },
  {
   "cell_type": "code",
   "execution_count": 4,
   "id": "f5262cba",
   "metadata": {},
   "outputs": [],
   "source": [
    "i1x1,i1y1=269,62\n",
    "i1x2,i1y2=360,166\n",
    "i2x1,i2y1=269,62\n",
    "i2x2,i2y2=360,166"
   ]
  },
  {
   "cell_type": "code",
   "execution_count": 5,
   "id": "8538c62c",
   "metadata": {},
   "outputs": [],
   "source": [
    "i1face = i1[i1y1:i1y2,i1x1:i1x2]\n",
    "i2face = i2[i2y1:i2y2,i2x1:i2x2]"
   ]
  },
  {
   "cell_type": "code",
   "execution_count": 6,
   "id": "f618d612",
   "metadata": {},
   "outputs": [],
   "source": [
    "cv2.imshow(\"i1face\",i1face)\n",
    "cv2.imshow(\"i2face\",i2face)\n",
    "cv2.waitKey()\n",
    "cv2.destroyAllWindows()"
   ]
  },
  {
   "cell_type": "code",
   "execution_count": 7,
   "id": "db9dda4f",
   "metadata": {},
   "outputs": [],
   "source": [
    "i1[i1y1:i1y2,i1x1:i1x2]=i2face"
   ]
  },
  {
   "cell_type": "code",
   "execution_count": 8,
   "id": "31aa0b6f",
   "metadata": {},
   "outputs": [],
   "source": [
    "cv2.imshow(\"x\",i1)\n",
    "cv2.waitKey()\n",
    "cv2.destroyAllWindows()"
   ]
  },
  {
   "cell_type": "code",
   "execution_count": 9,
   "id": "9c901e20",
   "metadata": {},
   "outputs": [],
   "source": [
    "i1 = cv2.imread('1.jpg')\n",
    "i1face = i1[i1y1:i1y2,i1x1:i1x2]\n",
    "i2[i2y1:i2y2,i2x1:i2x2]=i1face\n"
   ]
  },
  {
   "cell_type": "code",
   "execution_count": 10,
   "id": "d9a09c47",
   "metadata": {},
   "outputs": [],
   "source": [
    "cv2.imshow(\"x\",i2)\n",
    "cv2.waitKey()\n",
    "cv2.destroyAllWindows()"
   ]
  },
  {
   "cell_type": "code",
   "execution_count": null,
   "id": "e35e8736",
   "metadata": {},
   "outputs": [],
   "source": []
  }
 ],
 "metadata": {
  "kernelspec": {
   "display_name": "Python 3",
   "language": "python",
   "name": "python3"
  },
  "language_info": {
   "codemirror_mode": {
    "name": "ipython",
    "version": 3
   },
   "file_extension": ".py",
   "mimetype": "text/x-python",
   "name": "python",
   "nbconvert_exporter": "python",
   "pygments_lexer": "ipython3",
   "version": "3.8.8"
  }
 },
 "nbformat": 4,
 "nbformat_minor": 5
}
